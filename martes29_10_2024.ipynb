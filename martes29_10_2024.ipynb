{
  "nbformat": 4,
  "nbformat_minor": 0,
  "metadata": {
    "colab": {
      "provenance": [],
      "authorship_tag": "ABX9TyM/wLO5lHZTM9PsIOtsEyL0",
      "include_colab_link": true
    },
    "kernelspec": {
      "name": "python3",
      "display_name": "Python 3"
    },
    "language_info": {
      "name": "python"
    }
  },
  "cells": [
    {
      "cell_type": "markdown",
      "metadata": {
        "id": "view-in-github",
        "colab_type": "text"
      },
      "source": [
        "<a href=\"https://colab.research.google.com/github/maribelalay18/-Artificial-Intelligence/blob/main/martes29_10_2024.ipynb\" target=\"_parent\"><img src=\"https://colab.research.google.com/assets/colab-badge.svg\" alt=\"Open In Colab\"/></a>"
      ]
    },
    {
      "cell_type": "markdown",
      "source": [
        "Numpy LIBRARY"
      ],
      "metadata": {
        "id": "wpu0FaAlgSBu"
      }
    },
    {
      "cell_type": "code",
      "source": [
        "import numpy as np"
      ],
      "metadata": {
        "id": "VIOGEwN4gcYF"
      },
      "execution_count": 3,
      "outputs": []
    },
    {
      "cell_type": "code",
      "source": [
        "print(np.__version__)"
      ],
      "metadata": {
        "colab": {
          "base_uri": "https://localhost:8080/"
        },
        "id": "yyFy-Zc3hTYR",
        "outputId": "6ab3b905-a5ce-453b-a484-f6ba2ab2453c"
      },
      "execution_count": 4,
      "outputs": [
        {
          "output_type": "stream",
          "name": "stdout",
          "text": [
            "1.26.4\n"
          ]
        }
      ]
    },
    {
      "cell_type": "code",
      "source": [
        "myArray = np.array([1,2,3,4,5])\n",
        "print(myArray)"
      ],
      "metadata": {
        "colab": {
          "base_uri": "https://localhost:8080/"
        },
        "id": "zwto55uwhcqd",
        "outputId": "799348cb-a0c6-40ca-909d-d8444b95a269"
      },
      "execution_count": 5,
      "outputs": [
        {
          "output_type": "stream",
          "name": "stdout",
          "text": [
            "[1 2 3 4 5]\n"
          ]
        }
      ]
    },
    {
      "cell_type": "code",
      "source": [
        "print(type(myArray))"
      ],
      "metadata": {
        "colab": {
          "base_uri": "https://localhost:8080/"
        },
        "id": "4ySXk40Ih4NW",
        "outputId": "ee0f5170-72fc-4b0f-c8ba-b3249003aff1"
      },
      "execution_count": 6,
      "outputs": [
        {
          "output_type": "stream",
          "name": "stdout",
          "text": [
            "<class 'numpy.ndarray'>\n"
          ]
        }
      ]
    },
    {
      "cell_type": "markdown",
      "source": [
        "1. dimension de matriz\n",
        "2. muestra el tercer numero de la lista\n",
        "3.cambia el numero de la tercer lista por el 9\n",
        "4. mostrar"
      ],
      "metadata": {
        "id": "hPzY5SrgnIPt"
      }
    },
    {
      "cell_type": "code",
      "source": [
        "print(myArray.shape)\n",
        "print(myArray[2])\n",
        "myArray[2] = 9\n",
        "print(myArray)"
      ],
      "metadata": {
        "colab": {
          "base_uri": "https://localhost:8080/"
        },
        "id": "_N_lfOgxiBON",
        "outputId": "9b6ffa55-ec5e-4b1b-ee1e-5ed9fd9788d2"
      },
      "execution_count": 9,
      "outputs": [
        {
          "output_type": "stream",
          "name": "stdout",
          "text": [
            "(5,)\n",
            "3\n",
            "[1 2 9 4 5]\n"
          ]
        }
      ]
    },
    {
      "cell_type": "code",
      "source": [
        "myArray1 = np.array([[1,2,3],[4,5,6]])\n",
        "print(myArray1)\n",
        "print(myArray.shape)\n",
        "#"
      ],
      "metadata": {
        "colab": {
          "base_uri": "https://localhost:8080/"
        },
        "id": "asXSrw_RizAZ",
        "outputId": "c7cb854d-e5b8-4426-a278-a8620ccf3924"
      },
      "execution_count": 11,
      "outputs": [
        {
          "output_type": "stream",
          "name": "stdout",
          "text": [
            "[[1 2 3]\n",
            " [4 5 6]]\n",
            "(2, 3)\n"
          ]
        }
      ]
    },
    {
      "cell_type": "code",
      "source": [
        "myArray3=np.zeros((5,5))\n",
        "print(myArray3)"
      ],
      "metadata": {
        "colab": {
          "base_uri": "https://localhost:8080/"
        },
        "id": "R0oklxY9jAN-",
        "outputId": "b8209b3b-4358-4482-ae77-1290fc9d7aa7"
      },
      "execution_count": 13,
      "outputs": [
        {
          "output_type": "stream",
          "name": "stdout",
          "text": [
            "[[0. 0. 0. 0. 0.]\n",
            " [0. 0. 0. 0. 0.]\n",
            " [0. 0. 0. 0. 0.]\n",
            " [0. 0. 0. 0. 0.]\n",
            " [0. 0. 0. 0. 0.]]\n"
          ]
        }
      ]
    },
    {
      "cell_type": "code",
      "source": [
        "myArray4=np.full((3,6),10)\n",
        "print(myArray4)\n",
        "myArray5=np.eye(5)\n",
        "print(myArray5)\n",
        "\n",
        "myArray6=np.ones((5,5))\n",
        "print(myArray6)"
      ],
      "metadata": {
        "colab": {
          "base_uri": "https://localhost:8080/"
        },
        "id": "V6BbxstFjWX2",
        "outputId": "67b78987-86ec-4b58-d93e-fb608473a1b8"
      },
      "execution_count": 19,
      "outputs": [
        {
          "output_type": "stream",
          "name": "stdout",
          "text": [
            "[[10 10 10 10 10 10]\n",
            " [10 10 10 10 10 10]\n",
            " [10 10 10 10 10 10]]\n",
            "[[1. 0. 0. 0. 0.]\n",
            " [0. 1. 0. 0. 0.]\n",
            " [0. 0. 1. 0. 0.]\n",
            " [0. 0. 0. 1. 0.]\n",
            " [0. 0. 0. 0. 1.]]\n",
            "[[1. 1. 1. 1. 1.]\n",
            " [1. 1. 1. 1. 1.]\n",
            " [1. 1. 1. 1. 1.]\n",
            " [1. 1. 1. 1. 1.]\n",
            " [1. 1. 1. 1. 1.]]\n"
          ]
        }
      ]
    },
    {
      "cell_type": "code",
      "source": [
        "myArray7=np.random.random((5,5))\n",
        "print(myArray7)"
      ],
      "metadata": {
        "colab": {
          "base_uri": "https://localhost:8080/"
        },
        "id": "Hg-QdUEsjore",
        "outputId": "bb643270-abd2-4444-8a53-998b0fdd61a3"
      },
      "execution_count": 20,
      "outputs": [
        {
          "output_type": "stream",
          "name": "stdout",
          "text": [
            "[[0.50782053 0.33011009 0.55013693 0.55492277 0.2044956 ]\n",
            " [0.82255319 0.1269125  0.04445333 0.66174623 0.84257094]\n",
            " [0.32284006 0.83369774 0.23356522 0.41608489 0.26007357]\n",
            " [0.72423485 0.81551896 0.42050199 0.04950631 0.09768275]\n",
            " [0.26108712 0.63699375 0.88932682 0.43557427 0.08288817]]\n"
          ]
        }
      ]
    },
    {
      "cell_type": "code",
      "source": [
        "myArray8=np.random.randint(100,size=(5,5))\n",
        "print(myArray8)"
      ],
      "metadata": {
        "colab": {
          "base_uri": "https://localhost:8080/"
        },
        "id": "YAe_xE_SkELZ",
        "outputId": "570f47fb-afc7-46d5-d7d0-e7fc1608f69c"
      },
      "execution_count": 23,
      "outputs": [
        {
          "output_type": "stream",
          "name": "stdout",
          "text": [
            "[[ 0 69 66  6 94]\n",
            " [ 6 79 72 33 28]\n",
            " [41 30 90 70 20]\n",
            " [75 30 23 12 34]\n",
            " [31  7 21  1 76]]\n"
          ]
        }
      ]
    },
    {
      "cell_type": "code",
      "source": [
        "newMatrix=myArray8[:2,:2]\n",
        "print(newMatrix)"
      ],
      "metadata": {
        "colab": {
          "base_uri": "https://localhost:8080/"
        },
        "id": "Q6FyLOn4ksyR",
        "outputId": "986deba5-60d7-457c-fe28-879cec600f6c"
      },
      "execution_count": 24,
      "outputs": [
        {
          "output_type": "stream",
          "name": "stdout",
          "text": [
            "[[ 0 69]\n",
            " [ 6 79]]\n"
          ]
        }
      ]
    },
    {
      "cell_type": "markdown",
      "source": [
        "CAMBIA EL VALOR DEL MEDIO"
      ],
      "metadata": {
        "id": "bXNTI_Wfl2B1"
      }
    },
    {
      "cell_type": "code",
      "source": [
        "myArray8[2,2]=1000\n",
        "print(myArray8)"
      ],
      "metadata": {
        "colab": {
          "base_uri": "https://localhost:8080/"
        },
        "id": "mI5zkDQ-lid2",
        "outputId": "4c95661b-7ce2-4fd5-d576-a6c7eaa6fd4f"
      },
      "execution_count": 27,
      "outputs": [
        {
          "output_type": "stream",
          "name": "stdout",
          "text": [
            "[[ 100   69   66    6   94]\n",
            " [   6   79   72   33   28]\n",
            " [  41   30 1000   70   20]\n",
            " [  75   30   23   12   34]\n",
            " [  31    7   21    1   76]]\n"
          ]
        }
      ]
    },
    {
      "cell_type": "code",
      "source": [
        "print(myArray8[2,:])"
      ],
      "metadata": {
        "colab": {
          "base_uri": "https://localhost:8080/"
        },
        "id": "8-PVkAqPl8DN",
        "outputId": "d1be50b7-c311-435f-b159-9b9d19969385"
      },
      "execution_count": 28,
      "outputs": [
        {
          "output_type": "stream",
          "name": "stdout",
          "text": [
            "[  41   30 1000   70   20]\n"
          ]
        }
      ]
    },
    {
      "cell_type": "markdown",
      "source": [
        "MUESTRA DE CUANTAS DIMENSIONES ES LA MATRIZ"
      ],
      "metadata": {
        "id": "BKP1KSn6mZ-k"
      }
    },
    {
      "cell_type": "code",
      "source": [
        "print(myArray8[:,2].shape)"
      ],
      "metadata": {
        "colab": {
          "base_uri": "https://localhost:8080/"
        },
        "id": "oX0PiZ88mLF-",
        "outputId": "8b0c807f-71ad-4807-ce92-b1c6618422d2"
      },
      "execution_count": 30,
      "outputs": [
        {
          "output_type": "stream",
          "name": "stdout",
          "text": [
            "(5,)\n"
          ]
        }
      ]
    },
    {
      "cell_type": "code",
      "source": [
        "subMatrix=myArray8[1:4,1:4]\n",
        "print(subMatrix)"
      ],
      "metadata": {
        "colab": {
          "base_uri": "https://localhost:8080/"
        },
        "id": "05Eznb7qmk-Q",
        "outputId": "b3a62a39-be6e-4b8d-efc1-883f39e6e799"
      },
      "execution_count": 33,
      "outputs": [
        {
          "output_type": "stream",
          "name": "stdout",
          "text": [
            "[[  79   72   33]\n",
            " [  30 1000   70]\n",
            " [  30   23   12]]\n"
          ]
        }
      ]
    }
  ]
}