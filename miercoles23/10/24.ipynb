{
  "nbformat": 4,
  "nbformat_minor": 0,
  "metadata": {
    "colab": {
      "provenance": [],
      "toc_visible": true,
      "authorship_tag": "ABX9TyO13SG5SbMFXdQI45rR7qRU",
      "include_colab_link": true
    },
    "kernelspec": {
      "name": "python3",
      "display_name": "Python 3"
    },
    "language_info": {
      "name": "python"
    }
  },
  "cells": [
    {
      "cell_type": "markdown",
      "metadata": {
        "id": "view-in-github",
        "colab_type": "text"
      },
      "source": [
        "<a href=\"https://colab.research.google.com/github/maribelalay18/-Artificial-Intelligence/blob/main/miercoles23/10/24.ipynb\" target=\"_parent\"><img src=\"https://colab.research.google.com/assets/colab-badge.svg\" alt=\"Open In Colab\"/></a>"
      ]
    },
    {
      "cell_type": "code",
      "execution_count": 21,
      "metadata": {
        "colab": {
          "base_uri": "https://localhost:8080/"
        },
        "id": "vYhMVDniorRq",
        "outputId": "8a3c44d5-12fc-44c4-95e1-a32b3de41cbf"
      },
      "outputs": [
        {
          "output_type": "stream",
          "name": "stdout",
          "text": [
            "3.10.12 (main, Sep 11 2024, 15:47:36) [GCC 11.4.0]\n"
          ]
        }
      ],
      "source": [
        "import sys\n",
        "print(sys.version)"
      ]
    },
    {
      "cell_type": "code",
      "source": [
        "numero=5\n",
        "tmp1=\"Edith\"\n",
        "print(numero)\n",
        "print(f\"mi nombre es {tmp1}\")\n",
        "print(numero+5)\n",
        "print(numero-2)\n",
        "print(numero*2)\n",
        "print(numero/2)\n",
        "print(numero%2)\n",
        "numero *=2\n",
        "print(numero)\n",
        "print(type(numero))\n",
        "print(type(tmp1))\n"
      ],
      "metadata": {
        "colab": {
          "base_uri": "https://localhost:8080/"
        },
        "id": "iXdbw1Auskzv",
        "outputId": "db32a0a1-b2fa-4224-d2c6-f2f3d5511666"
      },
      "execution_count": 22,
      "outputs": [
        {
          "output_type": "stream",
          "name": "stdout",
          "text": [
            "5\n",
            "mi nombre es Edith\n",
            "10\n",
            "3\n",
            "10\n",
            "2.5\n",
            "1\n",
            "10\n",
            "<class 'int'>\n",
            "<class 'str'>\n"
          ]
        }
      ]
    },
    {
      "cell_type": "code",
      "source": [
        "t=True\n",
        "f=False\n",
        "print(type(t))\n",
        "print(type(f))\n",
        "print(t and f)\n",
        "print(t or f)\n",
        "print(not t)\n",
        "print(t!=f)"
      ],
      "metadata": {
        "colab": {
          "base_uri": "https://localhost:8080/"
        },
        "id": "HlMdNwaBvoq_",
        "outputId": "7fbd6731-51e0-4994-a344-3bd6c1d1dbb2"
      },
      "execution_count": 23,
      "outputs": [
        {
          "output_type": "stream",
          "name": "stdout",
          "text": [
            "<class 'bool'>\n",
            "<class 'bool'>\n",
            "False\n",
            "True\n",
            "False\n",
            "True\n"
          ]
        }
      ]
    },
    {
      "cell_type": "code",
      "source": [
        "aux1='hello'\n",
        "aux2='world'\n",
        "print(aux1+aux2)\n",
        "print(aux1*4)\n",
        "print(aux1.capitalize())\n",
        "print(aux1.upper())\n",
        "print(aux1.rjust(7))\n",
        "print(aux1.center(7))\n",
        "print(len(aux1))\n",
        "aux3='MARIBEL'\n",
        "print(aux3.lower())"
      ],
      "metadata": {
        "colab": {
          "base_uri": "https://localhost:8080/"
        },
        "id": "p1A-Ok8_wlFM",
        "outputId": "9934159f-e0f0-4eb7-e917-4d5d2265dc77"
      },
      "execution_count": 24,
      "outputs": [
        {
          "output_type": "stream",
          "name": "stdout",
          "text": [
            "helloworld\n",
            "hellohellohellohello\n",
            "Hello\n",
            "HELLO\n",
            "  hello\n",
            " hello \n",
            "5\n",
            "maribel\n"
          ]
        }
      ]
    },
    {
      "cell_type": "code",
      "source": [
        "aux2=list()\n",
        "aux2.append(2)\n",
        "aux2.append(\"edith\")\n",
        "aux2.append(True)\n",
        "print(aux2)\n",
        "print(aux2[1])\n",
        "print(aux2[-1])\n",
        "print(\"*****\")\n",
        "aux2[1]='marcela'\n",
        "print(aux2)\n",
        "aux3=[1,2,3,'marcela',True,False]"
      ],
      "metadata": {
        "colab": {
          "base_uri": "https://localhost:8080/"
        },
        "id": "JFrbOlEGyAAK",
        "outputId": "559c6df9-ba27-4b6f-9500-d95d97b404e2"
      },
      "execution_count": 25,
      "outputs": [
        {
          "output_type": "stream",
          "name": "stdout",
          "text": [
            "[2, 'edith', True]\n",
            "edith\n",
            "True\n",
            "*****\n",
            "[2, 'marcela', True]\n"
          ]
        }
      ]
    },
    {
      "cell_type": "code",
      "source": [
        "tmp1=list(range(100))\n",
        "for i in tmp1:\n",
        "    print(f\"el valor es {i}\")"
      ],
      "metadata": {
        "colab": {
          "base_uri": "https://localhost:8080/"
        },
        "id": "5P_X6L8R0gCa",
        "outputId": "74cecf3a-1e4c-4472-8697-13ce74f958f4"
      },
      "execution_count": 26,
      "outputs": [
        {
          "output_type": "stream",
          "name": "stdout",
          "text": [
            "el valor es 0\n",
            "el valor es 1\n",
            "el valor es 2\n",
            "el valor es 3\n",
            "el valor es 4\n",
            "el valor es 5\n",
            "el valor es 6\n",
            "el valor es 7\n",
            "el valor es 8\n",
            "el valor es 9\n",
            "el valor es 10\n",
            "el valor es 11\n",
            "el valor es 12\n",
            "el valor es 13\n",
            "el valor es 14\n",
            "el valor es 15\n",
            "el valor es 16\n",
            "el valor es 17\n",
            "el valor es 18\n",
            "el valor es 19\n",
            "el valor es 20\n",
            "el valor es 21\n",
            "el valor es 22\n",
            "el valor es 23\n",
            "el valor es 24\n",
            "el valor es 25\n",
            "el valor es 26\n",
            "el valor es 27\n",
            "el valor es 28\n",
            "el valor es 29\n",
            "el valor es 30\n",
            "el valor es 31\n",
            "el valor es 32\n",
            "el valor es 33\n",
            "el valor es 34\n",
            "el valor es 35\n",
            "el valor es 36\n",
            "el valor es 37\n",
            "el valor es 38\n",
            "el valor es 39\n",
            "el valor es 40\n",
            "el valor es 41\n",
            "el valor es 42\n",
            "el valor es 43\n",
            "el valor es 44\n",
            "el valor es 45\n",
            "el valor es 46\n",
            "el valor es 47\n",
            "el valor es 48\n",
            "el valor es 49\n",
            "el valor es 50\n",
            "el valor es 51\n",
            "el valor es 52\n",
            "el valor es 53\n",
            "el valor es 54\n",
            "el valor es 55\n",
            "el valor es 56\n",
            "el valor es 57\n",
            "el valor es 58\n",
            "el valor es 59\n",
            "el valor es 60\n",
            "el valor es 61\n",
            "el valor es 62\n",
            "el valor es 63\n",
            "el valor es 64\n",
            "el valor es 65\n",
            "el valor es 66\n",
            "el valor es 67\n",
            "el valor es 68\n",
            "el valor es 69\n",
            "el valor es 70\n",
            "el valor es 71\n",
            "el valor es 72\n",
            "el valor es 73\n",
            "el valor es 74\n",
            "el valor es 75\n",
            "el valor es 76\n",
            "el valor es 77\n",
            "el valor es 78\n",
            "el valor es 79\n",
            "el valor es 80\n",
            "el valor es 81\n",
            "el valor es 82\n",
            "el valor es 83\n",
            "el valor es 84\n",
            "el valor es 85\n",
            "el valor es 86\n",
            "el valor es 87\n",
            "el valor es 88\n",
            "el valor es 89\n",
            "el valor es 90\n",
            "el valor es 91\n",
            "el valor es 92\n",
            "el valor es 93\n",
            "el valor es 94\n",
            "el valor es 95\n",
            "el valor es 96\n",
            "el valor es 97\n",
            "el valor es 98\n",
            "el valor es 99\n"
          ]
        }
      ]
    },
    {
      "cell_type": "markdown",
      "source": [
        "Fin de clase 23 octubre del 2024 IA\n",
        "\n",
        "Inicio de practica 24/10/2024"
      ],
      "metadata": {
        "id": "hm0640im2caA"
      }
    },
    {
      "cell_type": "code",
      "source": [
        "listaAnimales =list()\n",
        "listaAnimales.append(\"gato\")\n",
        "listaAnimales.append(\"perro\")\n",
        "listaAnimales.append(\"loro\")\n",
        "# print(listaAnimales)\n",
        "\n",
        "tmp1=listaAnimales[:3]\n",
        "print(\"Animales %s\"%(tmp1))\n",
        "\n",
        "tmp2=listaAnimales[3:]\n",
        "print(\"Animales %s\"%(tmp2))\n",
        "\n",
        "tmp3=listaAnimales[2:4]\n",
        "print(\"Animales %s\"%(tmp3))\n",
        "\n",
        "listaAnimales[2:4]=['leon','tigre']\n",
        "print(\"Animales %s\"%(listaAnimales))"
      ],
      "metadata": {
        "colab": {
          "base_uri": "https://localhost:8080/"
        },
        "id": "cjJ12ueT24v_",
        "outputId": "8519d263-ab69-47f6-ca39-8df84953065c"
      },
      "execution_count": 27,
      "outputs": [
        {
          "output_type": "stream",
          "name": "stdout",
          "text": [
            "Animales ['gato', 'perro', 'loro']\n",
            "Animales []\n",
            "Animales ['loro']\n",
            "Animales ['gato', 'perro', 'leon', 'tigre']\n"
          ]
        }
      ]
    },
    {
      "cell_type": "code",
      "source": [
        "for numero, animal in enumerate(listaAnimales):\n",
        "    print('%d:%s'%(numero+1, animal))"
      ],
      "metadata": {
        "colab": {
          "base_uri": "https://localhost:8080/"
        },
        "id": "xWZtw-8_4cB2",
        "outputId": "4dd73b09-6bc7-45e0-a226-ed40f0cbd603"
      },
      "execution_count": 28,
      "outputs": [
        {
          "output_type": "stream",
          "name": "stdout",
          "text": [
            "1:gato\n",
            "2:perro\n",
            "3:leon\n",
            "4:tigre\n"
          ]
        }
      ]
    },
    {
      "cell_type": "code",
      "source": [
        "listaNormal=list(range(50))\n",
        "for i in listaNormal:\n",
        "    print(i)\n",
        "    print(f\"el numero es : {i+1}\")\n",
        "print(listaNormal)\n",
        "listaCuadrado=[x**2 for x in listaNormal]\n",
        "print(listaCuadrado)"
      ],
      "metadata": {
        "colab": {
          "base_uri": "https://localhost:8080/"
        },
        "id": "IrZacl-D5BBy",
        "outputId": "e6b10981-87c1-45b8-fa41-c0865e5568ef"
      },
      "execution_count": 29,
      "outputs": [
        {
          "output_type": "stream",
          "name": "stdout",
          "text": [
            "0\n",
            "el numero es : 1\n",
            "1\n",
            "el numero es : 2\n",
            "2\n",
            "el numero es : 3\n",
            "3\n",
            "el numero es : 4\n",
            "4\n",
            "el numero es : 5\n",
            "5\n",
            "el numero es : 6\n",
            "6\n",
            "el numero es : 7\n",
            "7\n",
            "el numero es : 8\n",
            "8\n",
            "el numero es : 9\n",
            "9\n",
            "el numero es : 10\n",
            "10\n",
            "el numero es : 11\n",
            "11\n",
            "el numero es : 12\n",
            "12\n",
            "el numero es : 13\n",
            "13\n",
            "el numero es : 14\n",
            "14\n",
            "el numero es : 15\n",
            "15\n",
            "el numero es : 16\n",
            "16\n",
            "el numero es : 17\n",
            "17\n",
            "el numero es : 18\n",
            "18\n",
            "el numero es : 19\n",
            "19\n",
            "el numero es : 20\n",
            "20\n",
            "el numero es : 21\n",
            "21\n",
            "el numero es : 22\n",
            "22\n",
            "el numero es : 23\n",
            "23\n",
            "el numero es : 24\n",
            "24\n",
            "el numero es : 25\n",
            "25\n",
            "el numero es : 26\n",
            "26\n",
            "el numero es : 27\n",
            "27\n",
            "el numero es : 28\n",
            "28\n",
            "el numero es : 29\n",
            "29\n",
            "el numero es : 30\n",
            "30\n",
            "el numero es : 31\n",
            "31\n",
            "el numero es : 32\n",
            "32\n",
            "el numero es : 33\n",
            "33\n",
            "el numero es : 34\n",
            "34\n",
            "el numero es : 35\n",
            "35\n",
            "el numero es : 36\n",
            "36\n",
            "el numero es : 37\n",
            "37\n",
            "el numero es : 38\n",
            "38\n",
            "el numero es : 39\n",
            "39\n",
            "el numero es : 40\n",
            "40\n",
            "el numero es : 41\n",
            "41\n",
            "el numero es : 42\n",
            "42\n",
            "el numero es : 43\n",
            "43\n",
            "el numero es : 44\n",
            "44\n",
            "el numero es : 45\n",
            "45\n",
            "el numero es : 46\n",
            "46\n",
            "el numero es : 47\n",
            "47\n",
            "el numero es : 48\n",
            "48\n",
            "el numero es : 49\n",
            "49\n",
            "el numero es : 50\n",
            "[0, 1, 2, 3, 4, 5, 6, 7, 8, 9, 10, 11, 12, 13, 14, 15, 16, 17, 18, 19, 20, 21, 22, 23, 24, 25, 26, 27, 28, 29, 30, 31, 32, 33, 34, 35, 36, 37, 38, 39, 40, 41, 42, 43, 44, 45, 46, 47, 48, 49]\n",
            "[0, 1, 4, 9, 16, 25, 36, 49, 64, 81, 100, 121, 144, 169, 196, 225, 256, 289, 324, 361, 400, 441, 484, 529, 576, 625, 676, 729, 784, 841, 900, 961, 1024, 1089, 1156, 1225, 1296, 1369, 1444, 1521, 1600, 1681, 1764, 1849, 1936, 2025, 2116, 2209, 2304, 2401]\n"
          ]
        }
      ]
    },
    {
      "cell_type": "code",
      "source": [
        "listaNormal=list(range(50))\n",
        "print(listaNormal)\n",
        "for i in listaNormal:\n",
        "  var=i+1\n",
        "  valor=var**2\n",
        "  print(f\"el numero es:{valor}\")"
      ],
      "metadata": {
        "colab": {
          "base_uri": "https://localhost:8080/"
        },
        "id": "Kevhiasf5f75",
        "outputId": "47fe620e-d28e-40a3-ad72-36e9649e7463"
      },
      "execution_count": 30,
      "outputs": [
        {
          "output_type": "stream",
          "name": "stdout",
          "text": [
            "[0, 1, 2, 3, 4, 5, 6, 7, 8, 9, 10, 11, 12, 13, 14, 15, 16, 17, 18, 19, 20, 21, 22, 23, 24, 25, 26, 27, 28, 29, 30, 31, 32, 33, 34, 35, 36, 37, 38, 39, 40, 41, 42, 43, 44, 45, 46, 47, 48, 49]\n",
            "el numero es:1\n",
            "el numero es:4\n",
            "el numero es:9\n",
            "el numero es:16\n",
            "el numero es:25\n",
            "el numero es:36\n",
            "el numero es:49\n",
            "el numero es:64\n",
            "el numero es:81\n",
            "el numero es:100\n",
            "el numero es:121\n",
            "el numero es:144\n",
            "el numero es:169\n",
            "el numero es:196\n",
            "el numero es:225\n",
            "el numero es:256\n",
            "el numero es:289\n",
            "el numero es:324\n",
            "el numero es:361\n",
            "el numero es:400\n",
            "el numero es:441\n",
            "el numero es:484\n",
            "el numero es:529\n",
            "el numero es:576\n",
            "el numero es:625\n",
            "el numero es:676\n",
            "el numero es:729\n",
            "el numero es:784\n",
            "el numero es:841\n",
            "el numero es:900\n",
            "el numero es:961\n",
            "el numero es:1024\n",
            "el numero es:1089\n",
            "el numero es:1156\n",
            "el numero es:1225\n",
            "el numero es:1296\n",
            "el numero es:1369\n",
            "el numero es:1444\n",
            "el numero es:1521\n",
            "el numero es:1600\n",
            "el numero es:1681\n",
            "el numero es:1764\n",
            "el numero es:1849\n",
            "el numero es:1936\n",
            "el numero es:2025\n",
            "el numero es:2116\n",
            "el numero es:2209\n",
            "el numero es:2304\n",
            "el numero es:2401\n",
            "el numero es:2500\n"
          ]
        }
      ]
    },
    {
      "cell_type": "code",
      "source": [
        "listaCuadrados=[x**2 for x in listaNormal]\n",
        "print(listaCuadrados)"
      ],
      "metadata": {
        "colab": {
          "base_uri": "https://localhost:8080/"
        },
        "id": "F2noMn7z6w4D",
        "outputId": "409fac2b-d60d-4c4c-9a84-71634f617c5d"
      },
      "execution_count": 31,
      "outputs": [
        {
          "output_type": "stream",
          "name": "stdout",
          "text": [
            "[0, 1, 4, 9, 16, 25, 36, 49, 64, 81, 100, 121, 144, 169, 196, 225, 256, 289, 324, 361, 400, 441, 484, 529, 576, 625, 676, 729, 784, 841, 900, 961, 1024, 1089, 1156, 1225, 1296, 1369, 1444, 1521, 1600, 1681, 1764, 1849, 1936, 2025, 2116, 2209, 2304, 2401]\n"
          ]
        }
      ]
    },
    {
      "cell_type": "code",
      "source": [
        "listaPares=[x for x in listaCuadrados if x%2==0]\n",
        "print(listaPares)\n",
        "\n",
        "listaImpares=[x for x in listaCuadrados if x%2!=0]\n",
        "print(listaImpares)"
      ],
      "metadata": {
        "colab": {
          "base_uri": "https://localhost:8080/"
        },
        "id": "QsCpuv4J7E4K",
        "outputId": "273c2331-280e-4a1e-d4fb-df10d5ecca89"
      },
      "execution_count": 32,
      "outputs": [
        {
          "output_type": "stream",
          "name": "stdout",
          "text": [
            "[0, 4, 16, 36, 64, 100, 144, 196, 256, 324, 400, 484, 576, 676, 784, 900, 1024, 1156, 1296, 1444, 1600, 1764, 1936, 2116, 2304]\n",
            "[1, 9, 25, 49, 81, 121, 169, 225, 289, 361, 441, 529, 625, 729, 841, 961, 1089, 1225, 1369, 1521, 1681, 1849, 2025, 2209, 2401]\n"
          ]
        }
      ]
    },
    {
      "cell_type": "code",
      "source": [
        "dictiCuadrado={'1':1,'2':4,'3':9,'4':16}\n",
        "print(dictiCuadrado)\n",
        "\n",
        "dictiCuadrado={x:x**2 for x in listNumeros}\n",
        "print(dictiCuadrado)"
      ],
      "metadata": {
        "id": "rFpImr4wEXCX",
        "outputId": "34653204-f25f-4941-8165-106a2c9321e2",
        "colab": {
          "base_uri": "https://localhost:8080/"
        }
      },
      "execution_count": 52,
      "outputs": [
        {
          "output_type": "stream",
          "name": "stdout",
          "text": [
            "{'1': 1, '2': 4, '3': 9, '4': 16}\n",
            "{1: 1, -5: 25, 0: 0}\n"
          ]
        }
      ]
    },
    {
      "cell_type": "code",
      "source": [
        "setElementos= {'monkey', 'donkey','mouse','cocodrile','fish'}\n",
        "print(setElementos)"
      ],
      "metadata": {
        "colab": {
          "base_uri": "https://localhost:8080/"
        },
        "id": "WgLEn8R47YQ6",
        "outputId": "5e6c32dc-32e2-4328-e56d-98e2da89b51c"
      },
      "execution_count": 33,
      "outputs": [
        {
          "output_type": "stream",
          "name": "stdout",
          "text": [
            "{'monkey', 'cocodrile', 'fish', 'donkey', 'mouse'}\n"
          ]
        }
      ]
    },
    {
      "cell_type": "code",
      "source": [
        "print('donkey' in setElementos)\n",
        "setElementos.add('bear')\n",
        "print(setElementos)\n",
        "print(len(setElementos))"
      ],
      "metadata": {
        "colab": {
          "base_uri": "https://localhost:8080/"
        },
        "id": "H9anpYIX8Edz",
        "outputId": "d77045d3-14c3-4c9a-8c7b-5fa10c9c1897"
      },
      "execution_count": 34,
      "outputs": [
        {
          "output_type": "stream",
          "name": "stdout",
          "text": [
            "True\n",
            "{'monkey', 'bear', 'cocodrile', 'fish', 'donkey', 'mouse'}\n",
            "6\n"
          ]
        }
      ]
    },
    {
      "cell_type": "code",
      "source": [
        "def sum(a,b):\n",
        "  return a+b\n",
        "\n",
        "tmp1=5\n",
        "tmp2=9\n",
        "print('la suma de los valores es igual: ',sum(tmp1,tmp2))"
      ],
      "metadata": {
        "colab": {
          "base_uri": "https://localhost:8080/"
        },
        "id": "xYpholCw9Fs0",
        "outputId": "cbec463f-91b2-456a-b28e-d96e443d4eb2"
      },
      "execution_count": 12,
      "outputs": [
        {
          "output_type": "stream",
          "name": "stdout",
          "text": [
            "la suma de los valores es igual:  14\n"
          ]
        }
      ]
    },
    {
      "cell_type": "code",
      "source": [
        "setElementos= {'monkey', 'donkey','mouse','cocodrile','fish'}\n",
        "print(setElementos)"
      ],
      "metadata": {
        "colab": {
          "base_uri": "https://localhost:8080/"
        },
        "id": "K3H-dp2jCovT",
        "outputId": "e20a0d22-0953-4c58-b797-b7ea1b48cb54"
      },
      "execution_count": 49,
      "outputs": [
        {
          "output_type": "stream",
          "name": "stdout",
          "text": [
            "{'monkey', 'cocodrile', 'fish', 'donkey', 'mouse'}\n"
          ]
        }
      ]
    },
    {
      "cell_type": "code",
      "source": [
        "print('donkey' in setElementos)\n",
        "setElementos.add('bear')\n",
        "print(setElementos)\n",
        "# setElemetos.remove('fish')\n",
        "print(setElementos)\n",
        "print(len(setElementos))"
      ],
      "metadata": {
        "colab": {
          "base_uri": "https://localhost:8080/"
        },
        "id": "aaHo0doVDvLk",
        "outputId": "b3100bf0-7b2f-409a-fe42-9a3f93921b01"
      },
      "execution_count": 50,
      "outputs": [
        {
          "output_type": "stream",
          "name": "stdout",
          "text": [
            "True\n",
            "{'monkey', 'bear', 'cocodrile', 'fish', 'donkey', 'mouse'}\n",
            "{'monkey', 'bear', 'cocodrile', 'fish', 'donkey', 'mouse'}\n",
            "6\n"
          ]
        }
      ]
    },
    {
      "cell_type": "code",
      "source": [
        "class saludos(object):\n",
        "  # constructor\n",
        "  def __init__(self,nombre):\n",
        "    self.nombre=nombre\n",
        "    # print(\"se ejecuta automàticamente\")\n",
        "  def mensaje(self):\n",
        "      print('Hola ', self.nombre)\n",
        "\n",
        "name1=saludos('Jareth')\n",
        "\n",
        "name1.mensaje()\n"
      ],
      "metadata": {
        "colab": {
          "base_uri": "https://localhost:8080/"
        },
        "id": "PfGD50a3A7fs",
        "outputId": "a315e67c-d3ae-4aa0-a26c-1dddd713af8d"
      },
      "execution_count": 47,
      "outputs": [
        {
          "output_type": "stream",
          "name": "stdout",
          "text": [
            "Hola  Jareth\n"
          ]
        }
      ]
    },
    {
      "cell_type": "code",
      "source": [
        "class numeros(object):\n",
        "  # constructor\n",
        "  def __init__(self,numero1,numero2):\n",
        "    self.numero1=numero1\n",
        "    self.numero2=numero2\n",
        "    # print(\"se ejecuta automàticamente\")\n",
        "  def suma(self):\n",
        "    return self.numero1+self.numero2\n",
        "problema1=numeros(5,9)\n",
        "print(problema1.suma())"
      ],
      "metadata": {
        "colab": {
          "base_uri": "https://localhost:8080/"
        },
        "id": "Wz2qWgjRCvpF",
        "outputId": "237ad898-f254-4605-c63b-1df948edf710"
      },
      "execution_count": 48,
      "outputs": [
        {
          "output_type": "stream",
          "name": "stdout",
          "text": [
            "14\n"
          ]
        }
      ]
    }
  ]
}