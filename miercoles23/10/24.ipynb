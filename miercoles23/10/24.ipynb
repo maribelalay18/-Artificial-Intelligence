{
  "nbformat": 4,
  "nbformat_minor": 0,
  "metadata": {
    "colab": {
      "provenance": [],
      "authorship_tag": "ABX9TyMSej+oVi4EpcYceSE1aSUG",
      "include_colab_link": true
    },
    "kernelspec": {
      "name": "python3",
      "display_name": "Python 3"
    },
    "language_info": {
      "name": "python"
    }
  },
  "cells": [
    {
      "cell_type": "markdown",
      "metadata": {
        "id": "view-in-github",
        "colab_type": "text"
      },
      "source": [
        "<a href=\"https://colab.research.google.com/github/maribelalay18/-Artificial-Intelligence/blob/main/miercoles23/10/24.ipynb\" target=\"_parent\"><img src=\"https://colab.research.google.com/assets/colab-badge.svg\" alt=\"Open In Colab\"/></a>"
      ]
    },
    {
      "cell_type": "code",
      "execution_count": 4,
      "metadata": {
        "colab": {
          "base_uri": "https://localhost:8080/"
        },
        "id": "vYhMVDniorRq",
        "outputId": "f69094a4-ef63-4f45-bc4d-28858a41f74a"
      },
      "outputs": [
        {
          "output_type": "stream",
          "name": "stdout",
          "text": [
            "3.10.12 (main, Sep 11 2024, 15:47:36) [GCC 11.4.0]\n"
          ]
        }
      ],
      "source": [
        "import sys\n",
        "print(sys.version)"
      ]
    },
    {
      "cell_type": "code",
      "source": [
        "numero=5\n",
        "tmp1=\"Edith\"\n",
        "print(numero)\n",
        "print(f\"mi nombre es {tmp1}\")\n",
        "print(numero+5)\n",
        "print(numero-2)\n",
        "print(numero*2)\n",
        "print(numero/2)\n",
        "print(numero%2)\n",
        "numero *=2\n",
        "print(numero)\n",
        "print(type(numero))\n",
        "print(type(tmp1))\n"
      ],
      "metadata": {
        "colab": {
          "base_uri": "https://localhost:8080/"
        },
        "id": "iXdbw1Auskzv",
        "outputId": "81d40bae-89f9-49a5-b364-7dfde2e95650"
      },
      "execution_count": 15,
      "outputs": [
        {
          "output_type": "stream",
          "name": "stdout",
          "text": [
            "5\n",
            "mi nombre es Edith\n",
            "10\n",
            "3\n",
            "10\n",
            "2.5\n",
            "1\n",
            "10\n",
            "<class 'int'>\n",
            "<class 'str'>\n"
          ]
        }
      ]
    },
    {
      "cell_type": "code",
      "source": [
        "t=True\n",
        "f=False\n",
        "print(type(t))\n",
        "print(type(f))\n",
        "print(t and f)\n",
        "print(t or f)\n",
        "print(not t)\n",
        "print(t!=f)"
      ],
      "metadata": {
        "colab": {
          "base_uri": "https://localhost:8080/"
        },
        "id": "HlMdNwaBvoq_",
        "outputId": "931a7c6f-8fdb-4061-e311-d8eb9352c686"
      },
      "execution_count": 21,
      "outputs": [
        {
          "output_type": "stream",
          "name": "stdout",
          "text": [
            "<class 'bool'>\n",
            "<class 'bool'>\n",
            "False\n",
            "True\n",
            "False\n",
            "True\n"
          ]
        }
      ]
    },
    {
      "cell_type": "code",
      "source": [
        "aux1='hello'\n",
        "aux2='world'\n",
        "print(aux1+aux2)\n",
        "print(aux1*4)\n",
        "print(aux1.capitalize())\n",
        "print(aux1.upper())\n",
        "print(aux1.rjust(7))\n",
        "print(aux1.center(7))\n",
        "print(len(aux1))\n",
        "aux3='MARIBEL'\n",
        "print(aux3.lower())"
      ],
      "metadata": {
        "colab": {
          "base_uri": "https://localhost:8080/"
        },
        "id": "p1A-Ok8_wlFM",
        "outputId": "859814a6-1c08-4c8b-84cd-14c68d56c0b5"
      },
      "execution_count": 27,
      "outputs": [
        {
          "output_type": "stream",
          "name": "stdout",
          "text": [
            "helloworld\n",
            "hellohellohellohello\n",
            "Hello\n",
            "HELLO\n",
            "  hello\n",
            " hello \n",
            "5\n",
            "maribel\n"
          ]
        }
      ]
    },
    {
      "cell_type": "code",
      "source": [
        "aux2=list()\n",
        "aux2.append(2)\n",
        "aux2.append(\"edith\")\n",
        "aux2.append(True)\n",
        "print(aux2)\n",
        "print(aux2[1])\n",
        "print(aux2[-1])\n",
        "print(\"*****\")\n",
        "aux2[1]='marcela'\n",
        "print(aux2)\n",
        "aux3=[1,2,3,'marcela',True,False]"
      ],
      "metadata": {
        "colab": {
          "base_uri": "https://localhost:8080/"
        },
        "id": "JFrbOlEGyAAK",
        "outputId": "7dbf3514-40c5-4b36-e3d4-9018c5205414"
      },
      "execution_count": 34,
      "outputs": [
        {
          "output_type": "stream",
          "name": "stdout",
          "text": [
            "[2, 'edith', True]\n",
            "edith\n",
            "True\n",
            "*****\n",
            "[2, 'marcela', True]\n"
          ]
        }
      ]
    },
    {
      "cell_type": "code",
      "source": [
        "tmp1=list(range(100))\n",
        "for i in tmp1:\n",
        "    print(f\"el valor es {i}\")"
      ],
      "metadata": {
        "colab": {
          "base_uri": "https://localhost:8080/"
        },
        "id": "5P_X6L8R0gCa",
        "outputId": "d37c87f8-100b-4090-ee78-04076950cf66"
      },
      "execution_count": 37,
      "outputs": [
        {
          "output_type": "stream",
          "name": "stdout",
          "text": [
            "el valor es 0\n",
            "el valor es 1\n",
            "el valor es 2\n",
            "el valor es 3\n",
            "el valor es 4\n",
            "el valor es 5\n",
            "el valor es 6\n",
            "el valor es 7\n",
            "el valor es 8\n",
            "el valor es 9\n",
            "el valor es 10\n",
            "el valor es 11\n",
            "el valor es 12\n",
            "el valor es 13\n",
            "el valor es 14\n",
            "el valor es 15\n",
            "el valor es 16\n",
            "el valor es 17\n",
            "el valor es 18\n",
            "el valor es 19\n",
            "el valor es 20\n",
            "el valor es 21\n",
            "el valor es 22\n",
            "el valor es 23\n",
            "el valor es 24\n",
            "el valor es 25\n",
            "el valor es 26\n",
            "el valor es 27\n",
            "el valor es 28\n",
            "el valor es 29\n",
            "el valor es 30\n",
            "el valor es 31\n",
            "el valor es 32\n",
            "el valor es 33\n",
            "el valor es 34\n",
            "el valor es 35\n",
            "el valor es 36\n",
            "el valor es 37\n",
            "el valor es 38\n",
            "el valor es 39\n",
            "el valor es 40\n",
            "el valor es 41\n",
            "el valor es 42\n",
            "el valor es 43\n",
            "el valor es 44\n",
            "el valor es 45\n",
            "el valor es 46\n",
            "el valor es 47\n",
            "el valor es 48\n",
            "el valor es 49\n",
            "el valor es 50\n",
            "el valor es 51\n",
            "el valor es 52\n",
            "el valor es 53\n",
            "el valor es 54\n",
            "el valor es 55\n",
            "el valor es 56\n",
            "el valor es 57\n",
            "el valor es 58\n",
            "el valor es 59\n",
            "el valor es 60\n",
            "el valor es 61\n",
            "el valor es 62\n",
            "el valor es 63\n",
            "el valor es 64\n",
            "el valor es 65\n",
            "el valor es 66\n",
            "el valor es 67\n",
            "el valor es 68\n",
            "el valor es 69\n",
            "el valor es 70\n",
            "el valor es 71\n",
            "el valor es 72\n",
            "el valor es 73\n",
            "el valor es 74\n",
            "el valor es 75\n",
            "el valor es 76\n",
            "el valor es 77\n",
            "el valor es 78\n",
            "el valor es 79\n",
            "el valor es 80\n",
            "el valor es 81\n",
            "el valor es 82\n",
            "el valor es 83\n",
            "el valor es 84\n",
            "el valor es 85\n",
            "el valor es 86\n",
            "el valor es 87\n",
            "el valor es 88\n",
            "el valor es 89\n",
            "el valor es 90\n",
            "el valor es 91\n",
            "el valor es 92\n",
            "el valor es 93\n",
            "el valor es 94\n",
            "el valor es 95\n",
            "el valor es 96\n",
            "el valor es 97\n",
            "el valor es 98\n",
            "el valor es 99\n"
          ]
        }
      ]
    }
  ]
}