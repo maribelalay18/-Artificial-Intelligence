{
  "nbformat": 4,
  "nbformat_minor": 0,
  "metadata": {
    "colab": {
      "provenance": [],
      "authorship_tag": "ABX9TyP9DBvkJBqI/ElDHXlPrhRh",
      "include_colab_link": true
    },
    "kernelspec": {
      "name": "python3",
      "display_name": "Python 3"
    },
    "language_info": {
      "name": "python"
    }
  },
  "cells": [
    {
      "cell_type": "markdown",
      "metadata": {
        "id": "view-in-github",
        "colab_type": "text"
      },
      "source": [
        "<a href=\"https://colab.research.google.com/github/maribelalay18/-Artificial-Intelligence/blob/main/martes05_11_2024.ipynb\" target=\"_parent\"><img src=\"https://colab.research.google.com/assets/colab-badge.svg\" alt=\"Open In Colab\"/></a>"
      ]
    },
    {
      "cell_type": "markdown",
      "source": [],
      "metadata": {
        "id": "PnSv8VbWmR9i"
      }
    },
    {
      "cell_type": "code",
      "source": [
        "import numpy as np\n",
        "matrixA=np.array([[11,12,13,14],[21,22,23,24],[31,32,33,34]])\n",
        "print(matrixA.shape)"
      ],
      "metadata": {
        "colab": {
          "base_uri": "https://localhost:8080/"
        },
        "id": "oF9GjZRUmSX6",
        "outputId": "95df36c3-cab0-4a2d-8c33-fe1d0a7e5518"
      },
      "execution_count": 5,
      "outputs": [
        {
          "output_type": "stream",
          "name": "stdout",
          "text": [
            "(3, 4)\n"
          ]
        }
      ]
    },
    {
      "cell_type": "code",
      "source": [
        "matrixA"
      ],
      "metadata": {
        "colab": {
          "base_uri": "https://localhost:8080/"
        },
        "id": "fYThq9qankm-",
        "outputId": "1e26db0e-04e5-4248-aec3-c550ca74d83d"
      },
      "execution_count": 6,
      "outputs": [
        {
          "output_type": "execute_result",
          "data": {
            "text/plain": [
              "array([[11, 12, 13, 14],\n",
              "       [21, 22, 23, 24],\n",
              "       [31, 32, 33, 34]])"
            ]
          },
          "metadata": {},
          "execution_count": 6
        }
      ]
    },
    {
      "cell_type": "code",
      "source": [
        "print(matrixA[1:,1:3])"
      ],
      "metadata": {
        "colab": {
          "base_uri": "https://localhost:8080/"
        },
        "id": "Oj2QZ1BvnsnT",
        "outputId": "9ec724cc-b036-4ed7-e1ef-ab998fd50792"
      },
      "execution_count": 8,
      "outputs": [
        {
          "output_type": "stream",
          "name": "stdout",
          "text": [
            "[[22 23]\n",
            " [32 33]]\n"
          ]
        }
      ]
    },
    {
      "cell_type": "code",
      "source": [
        "\n",
        "# Create a 4x3 matrix with random integers between 0 and 9\n",
        "matrix = np.random.randint(0, 10, size=(4, 3))\n",
        "\n",
        "# Print the matrix\n",
        "print(matrix)"
      ],
      "metadata": {
        "colab": {
          "base_uri": "https://localhost:8080/"
        },
        "id": "AlJyztW0oDZC",
        "outputId": "ebd583cc-df39-40d9-941e-5cbdc5cf82c6"
      },
      "execution_count": 7,
      "outputs": [
        {
          "output_type": "stream",
          "name": "stdout",
          "text": [
            "[[2 2 1]\n",
            " [4 0 0]\n",
            " [8 5 5]\n",
            " [5 9 7]]\n"
          ]
        }
      ]
    },
    {
      "cell_type": "code",
      "source": [
        "print(matrix.shape)"
      ],
      "metadata": {
        "colab": {
          "base_uri": "https://localhost:8080/"
        },
        "id": "RHWsqhwBoWxf",
        "outputId": "5e4a93fe-7729-4655-bcc7-6ed7e09d9e5b"
      },
      "execution_count": 9,
      "outputs": [
        {
          "output_type": "stream",
          "name": "stdout",
          "text": [
            "(4, 3)\n"
          ]
        }
      ]
    },
    {
      "cell_type": "code",
      "source": [
        "print(matrix)\n",
        "col_indices=np.array([0,1,2])\n",
        "row_indices=np.array([1,2])\n",
        "for row,col in zip(row_indices,col_indices):\n",
        "    # print(row,\" \",col)\n",
        "    print(matrix[row,col])\n"
      ],
      "metadata": {
        "colab": {
          "base_uri": "https://localhost:8080/"
        },
        "id": "g7MU-wEtoldT",
        "outputId": "4d2060b1-20f5-42e3-bc3a-ccc2e58a1728"
      },
      "execution_count": 14,
      "outputs": [
        {
          "output_type": "stream",
          "name": "stdout",
          "text": [
            "[[2 2 1]\n",
            " [4 0 0]\n",
            " [8 5 5]\n",
            " [5 9 7]]\n",
            "4\n",
            "5\n"
          ]
        }
      ]
    },
    {
      "cell_type": "code",
      "source": [
        "mask=matrix>7\n",
        "print(mask)"
      ],
      "metadata": {
        "colab": {
          "base_uri": "https://localhost:8080/"
        },
        "id": "m8OgT2rOp9v_",
        "outputId": "239ded45-66aa-427e-c753-55ec34454396"
      },
      "execution_count": 16,
      "outputs": [
        {
          "output_type": "stream",
          "name": "stdout",
          "text": [
            "[[False False False]\n",
            " [False False False]\n",
            " [ True False False]\n",
            " [False  True False]]\n"
          ]
        }
      ]
    },
    {
      "cell_type": "code",
      "source": [
        "print(matrix[mask])"
      ],
      "metadata": {
        "colab": {
          "base_uri": "https://localhost:8080/"
        },
        "id": "-jTN89cMqIOF",
        "outputId": "0138d24d-7838-4c6d-d25c-6942b1082032"
      },
      "execution_count": 17,
      "outputs": [
        {
          "output_type": "stream",
          "name": "stdout",
          "text": [
            "[8 9]\n"
          ]
        }
      ]
    },
    {
      "cell_type": "code",
      "source": [
        "print(matrix[matrix>7])"
      ],
      "metadata": {
        "colab": {
          "base_uri": "https://localhost:8080/"
        },
        "id": "40SS0jHCqO9k",
        "outputId": "9a2c05d4-0eb7-4bda-e2c1-e86bb57ea75c"
      },
      "execution_count": 18,
      "outputs": [
        {
          "output_type": "stream",
          "name": "stdout",
          "text": [
            "[8 9]\n"
          ]
        }
      ]
    },
    {
      "cell_type": "markdown",
      "source": [
        "agregar 100 a los elementosa que sean pares\n"
      ],
      "metadata": {
        "id": "ysdC6wn7rGJ7"
      }
    },
    {
      "cell_type": "code",
      "source": [
        "matrix[matrix%2==0] += 100\n",
        "print(matrix)"
      ],
      "metadata": {
        "colab": {
          "base_uri": "https://localhost:8080/"
        },
        "id": "N82yn00BqWr0",
        "outputId": "9137023e-9704-4cf6-cb8b-f26f9f5b898b"
      },
      "execution_count": 28,
      "outputs": [
        {
          "output_type": "stream",
          "name": "stdout",
          "text": [
            "[[202 202   1]\n",
            " [204 200 200]\n",
            " [208 105 105]\n",
            " [105   9 107]]\n"
          ]
        }
      ]
    },
    {
      "cell_type": "code",
      "source": [
        "matrix[(matrix > 3) & (matrix < 9)] += 100\n",
        "print(matrix)"
      ],
      "metadata": {
        "colab": {
          "base_uri": "https://localhost:8080/"
        },
        "id": "4hrSCJaJrt7s",
        "outputId": "49ac0a2c-82b5-4980-ff96-57fc9599b111"
      },
      "execution_count": 29,
      "outputs": [
        {
          "output_type": "stream",
          "name": "stdout",
          "text": [
            "[[202 202   1]\n",
            " [204 200 200]\n",
            " [208 105 105]\n",
            " [105   9 107]]\n"
          ]
        }
      ]
    },
    {
      "cell_type": "code",
      "source": [
        "print(matrix)"
      ],
      "metadata": {
        "colab": {
          "base_uri": "https://localhost:8080/"
        },
        "id": "ZMvWaJZrs7fA",
        "outputId": "cc5f5cf1-3387-427c-9ba4-3659022c2684"
      },
      "execution_count": 31,
      "outputs": [
        {
          "output_type": "stream",
          "name": "stdout",
          "text": [
            "[[202 202   1]\n",
            " [204 200 200]\n",
            " [208 105 105]\n",
            " [105   9 107]]\n"
          ]
        }
      ]
    },
    {
      "cell_type": "code",
      "source": [
        "matrixC=np.random.rand(2,2)\n",
        "print(matrixC)"
      ],
      "metadata": {
        "colab": {
          "base_uri": "https://localhost:8080/"
        },
        "id": "2nDETguYsSRL",
        "outputId": "20022d0d-bfbb-470e-acf8-1d2d0c6b3e54"
      },
      "execution_count": 30,
      "outputs": [
        {
          "output_type": "stream",
          "name": "stdout",
          "text": [
            "[[0.30084735 0.30043717]\n",
            " [0.35214611 0.3440583 ]]\n"
          ]
        }
      ]
    },
    {
      "cell_type": "code",
      "source": [
        "filter=(matrix>3) & (matrix<9)\n",
        "matrix[filter]+=100\n",
        "print(matrix)"
      ],
      "metadata": {
        "colab": {
          "base_uri": "https://localhost:8080/"
        },
        "id": "XSVSAO1ZuGjn",
        "outputId": "742fee67-ac52-432a-cd85-288e971515e8"
      },
      "execution_count": 37,
      "outputs": [
        {
          "output_type": "stream",
          "name": "stdout",
          "text": [
            "[[202 202   1]\n",
            " [204 200 200]\n",
            " [208 105 105]\n",
            " [105   9 107]]\n"
          ]
        }
      ]
    },
    {
      "cell_type": "markdown",
      "source": [],
      "metadata": {
        "id": "SEht_2W1u3K1"
      }
    },
    {
      "cell_type": "code",
      "source": [
        "matrixA1=np.random.randint(0,10,size=(4,3))\n",
        "matrixA2=np.random.randint(0,10,size=(4,3))\n",
        "print(matrixA1)\n",
        "print\t(matrixA2)"
      ],
      "metadata": {
        "colab": {
          "base_uri": "https://localhost:8080/"
        },
        "id": "8GEqxjECu15p",
        "outputId": "f9b296b9-9e59-4b68-99fb-d2e892933301"
      },
      "execution_count": 39,
      "outputs": [
        {
          "output_type": "stream",
          "name": "stdout",
          "text": [
            "[[8 6 4]\n",
            " [5 6 6]\n",
            " [4 5 5]\n",
            " [7 7 6]]\n",
            "[[4 9 6]\n",
            " [6 8 8]\n",
            " [8 9 4]\n",
            " [8 5 1]]\n"
          ]
        }
      ]
    },
    {
      "cell_type": "code",
      "source": [
        "print(matrixA1+matrixA2)\n",
        "print(matrixA1-matrixA2)\n",
        "print(matrixA1*matrixA2)\n",
        "print(matrixA1/matrixA2)"
      ],
      "metadata": {
        "colab": {
          "base_uri": "https://localhost:8080/"
        },
        "id": "pEA_L5SMvm-v",
        "outputId": "6a16a5a0-abd5-44fc-e09f-97ca158b611c"
      },
      "execution_count": 40,
      "outputs": [
        {
          "output_type": "stream",
          "name": "stdout",
          "text": [
            "[[12 15 10]\n",
            " [11 14 14]\n",
            " [12 14  9]\n",
            " [15 12  7]]\n",
            "[[ 4 -3 -2]\n",
            " [-1 -2 -2]\n",
            " [-4 -4  1]\n",
            " [-1  2  5]]\n",
            "[[32 54 24]\n",
            " [30 48 48]\n",
            " [32 45 20]\n",
            " [56 35  6]]\n",
            "[[2.         0.66666667 0.66666667]\n",
            " [0.83333333 0.75       0.75      ]\n",
            " [0.5        0.55555556 1.25      ]\n",
            " [0.875      1.4        6.        ]]\n"
          ]
        }
      ]
    },
    {
      "cell_type": "code",
      "source": [
        "print(matrixA1)"
      ],
      "metadata": {
        "colab": {
          "base_uri": "https://localhost:8080/"
        },
        "id": "MCD-fb6bvv5c",
        "outputId": "494895a5-ad9a-4314-9b70-44a530cb87d5"
      },
      "execution_count": 41,
      "outputs": [
        {
          "output_type": "stream",
          "name": "stdout",
          "text": [
            "[[8 6 4]\n",
            " [5 6 6]\n",
            " [4 5 5]\n",
            " [7 7 6]]\n"
          ]
        }
      ]
    },
    {
      "cell_type": "code",
      "source": [
        "print(np.sqrt(matrixA1))"
      ],
      "metadata": {
        "colab": {
          "base_uri": "https://localhost:8080/"
        },
        "id": "rNBevcLyv3_R",
        "outputId": "76701e0e-0389-47c1-a352-c7443ed5ab93"
      },
      "execution_count": 42,
      "outputs": [
        {
          "output_type": "stream",
          "name": "stdout",
          "text": [
            "[[2.82842712 2.44948974 2.        ]\n",
            " [2.23606798 2.44948974 2.44948974]\n",
            " [2.         2.23606798 2.23606798]\n",
            " [2.64575131 2.64575131 2.44948974]]\n"
          ]
        }
      ]
    },
    {
      "cell_type": "code",
      "source": [
        "matrixA1=np.random.randint(0,10,size=(2,5))\n",
        "matrixA2=np.random.randint(0,10,size=(3,2))\n",
        "print(matrixA1)\n",
        "print(matrixA2)"
      ],
      "metadata": {
        "colab": {
          "base_uri": "https://localhost:8080/"
        },
        "id": "Ow9HyvsYwDgX",
        "outputId": "18866a4d-4cdf-4da6-a705-97ec636ffcac"
      },
      "execution_count": 43,
      "outputs": [
        {
          "output_type": "stream",
          "name": "stdout",
          "text": [
            "[[1 9 4 4 1]\n",
            " [8 0 1 7 5]]\n",
            "[[7 6]\n",
            " [4 5]\n",
            " [9 4]]\n"
          ]
        }
      ]
    },
    {
      "cell_type": "code",
      "source": [
        "print(np.mean(matrixA1))"
      ],
      "metadata": {
        "colab": {
          "base_uri": "https://localhost:8080/"
        },
        "id": "l4Cn2i1UwWM2",
        "outputId": "c025a181-0100-4384-b025-6bdd1b88b2e8"
      },
      "execution_count": 44,
      "outputs": [
        {
          "output_type": "stream",
          "name": "stdout",
          "text": [
            "4.0\n"
          ]
        }
      ]
    },
    {
      "cell_type": "code",
      "source": [
        "print(matrixA1.mean (axis=1))"
      ],
      "metadata": {
        "colab": {
          "base_uri": "https://localhost:8080/"
        },
        "id": "wqiF_gmRwd69",
        "outputId": "e8e0a2ae-5cb2-48f5-a25c-de0cf2971130"
      },
      "execution_count": 46,
      "outputs": [
        {
          "output_type": "stream",
          "name": "stdout",
          "text": [
            "[3.8 4.2]\n"
          ]
        }
      ]
    },
    {
      "cell_type": "code",
      "source": [
        "print(matrixA1.mean(axis=0))"
      ],
      "metadata": {
        "colab": {
          "base_uri": "https://localhost:8080/"
        },
        "id": "sszUTAITwlTO",
        "outputId": "d752fd4a-580f-4f6b-a6bb-e85ac8918204"
      },
      "execution_count": 48,
      "outputs": [
        {
          "output_type": "stream",
          "name": "stdout",
          "text": [
            "[4.5 4.5 2.5 5.5 3. ]\n"
          ]
        }
      ]
    },
    {
      "cell_type": "code",
      "source": [
        "print(np.median(matrixA1))"
      ],
      "metadata": {
        "colab": {
          "base_uri": "https://localhost:8080/"
        },
        "id": "4MyAV2aowp-2",
        "outputId": "61ab90ce-f686-4044-999d-c0b3ed040879"
      },
      "execution_count": 50,
      "outputs": [
        {
          "output_type": "stream",
          "name": "stdout",
          "text": [
            "4.0\n"
          ]
        }
      ]
    },
    {
      "cell_type": "code",
      "source": [
        "print(matrixA1.sum())"
      ],
      "metadata": {
        "colab": {
          "base_uri": "https://localhost:8080/"
        },
        "id": "Oe0ol_NKxPSy",
        "outputId": "9962d26b-a0a0-4c15-e71f-c6f954965478"
      },
      "execution_count": 51,
      "outputs": [
        {
          "output_type": "stream",
          "name": "stdout",
          "text": [
            "40\n"
          ]
        }
      ]
    },
    {
      "cell_type": "code",
      "source": [
        "print(matrixA1.max())"
      ],
      "metadata": {
        "colab": {
          "base_uri": "https://localhost:8080/"
        },
        "id": "qILxWgCcxaO9",
        "outputId": "1fbe551e-52f7-48cc-ec57-4411b22d52ab"
      },
      "execution_count": 52,
      "outputs": [
        {
          "output_type": "stream",
          "name": "stdout",
          "text": [
            "9\n"
          ]
        }
      ]
    },
    {
      "cell_type": "markdown",
      "source": [
        "concatenar para modificar la extencion de la matriz"
      ],
      "metadata": {
        "id": "aePaVOO5x7gY"
      }
    },
    {
      "cell_type": "code",
      "source": [
        "start=np.zeros((4,3))\n",
        "print(start)"
      ],
      "metadata": {
        "colab": {
          "base_uri": "https://localhost:8080/"
        },
        "id": "f7szg2GYx3wG",
        "outputId": "2346017b-bc7b-44df-f267-7fdbd07fbfee"
      },
      "execution_count": 53,
      "outputs": [
        {
          "output_type": "stream",
          "name": "stdout",
          "text": [
            "[[0. 0. 0.]\n",
            " [0. 0. 0.]\n",
            " [0. 0. 0.]\n",
            " [0. 0. 0.]]\n"
          ]
        }
      ]
    },
    {
      "cell_type": "code",
      "source": [
        "add_rows=np.array([1,2,3])\n",
        "print(add_rows.shape)"
      ],
      "metadata": {
        "colab": {
          "base_uri": "https://localhost:8080/"
        },
        "id": "5FyjU5rCyO0e",
        "outputId": "9b01e40a-8422-4005-8c43-26bad22e3b5c"
      },
      "execution_count": 54,
      "outputs": [
        {
          "output_type": "stream",
          "name": "stdout",
          "text": [
            "(3,)\n"
          ]
        }
      ]
    },
    {
      "cell_type": "code",
      "source": [
        "y=start+add_rows\n",
        "print(y)"
      ],
      "metadata": {
        "colab": {
          "base_uri": "https://localhost:8080/"
        },
        "id": "YxifwF5YyZw2",
        "outputId": "a8f64899-9a30-4208-e039-9374edd0dda1"
      },
      "execution_count": 55,
      "outputs": [
        {
          "output_type": "stream",
          "name": "stdout",
          "text": [
            "[[1. 2. 3.]\n",
            " [1. 2. 3.]\n",
            " [1. 2. 3.]\n",
            " [1. 2. 3.]]\n"
          ]
        }
      ]
    },
    {
      "cell_type": "code",
      "source": [
        "print(start)"
      ],
      "metadata": {
        "colab": {
          "base_uri": "https://localhost:8080/"
        },
        "id": "_OxSYkwWykOf",
        "outputId": "934fcc8a-a66f-42ba-8fde-760239c4eaed"
      },
      "execution_count": 56,
      "outputs": [
        {
          "output_type": "stream",
          "name": "stdout",
          "text": [
            "[[0. 0. 0.]\n",
            " [0. 0. 0.]\n",
            " [0. 0. 0.]\n",
            " [0. 0. 0.]]\n"
          ]
        }
      ]
    },
    {
      "cell_type": "code",
      "source": [
        "col_rows=np.array([1,2,3,4])\n",
        "print(col_rows.shape)"
      ],
      "metadata": {
        "colab": {
          "base_uri": "https://localhost:8080/"
        },
        "id": "b639sWiIyw01",
        "outputId": "a087c597-d739-4f26-8baf-15cefc973153"
      },
      "execution_count": 57,
      "outputs": [
        {
          "output_type": "stream",
          "name": "stdout",
          "text": [
            "(4,)\n"
          ]
        }
      ]
    },
    {
      "cell_type": "code",
      "source": [
        "print(start)"
      ],
      "metadata": {
        "colab": {
          "base_uri": "https://localhost:8080/"
        },
        "id": "Zzpp4OGS3-G5",
        "outputId": "43d70fca-b01f-4841-fda2-0359b4b33684"
      },
      "execution_count": 72,
      "outputs": [
        {
          "output_type": "stream",
          "name": "stdout",
          "text": [
            "[[0. 0. 0.]\n",
            " [0. 0. 0.]\n",
            " [0. 0. 0.]\n",
            " [0. 0. 0.]]\n"
          ]
        }
      ]
    },
    {
      "cell_type": "code",
      "source": [
        "print (start)\n",
        "tmp=col_rows.T\n",
        "y2=start+tmp\n",
        "print(y2)"
      ],
      "metadata": {
        "colab": {
          "base_uri": "https://localhost:8080/",
          "height": 263
        },
        "id": "qvPMRP5UzCTu",
        "outputId": "8b7814e7-b755-4540-b8ad-957a7c9ccf92"
      },
      "execution_count": 73,
      "outputs": [
        {
          "output_type": "stream",
          "name": "stdout",
          "text": [
            "[[0. 0. 0.]\n",
            " [0. 0. 0.]\n",
            " [0. 0. 0.]\n",
            " [0. 0. 0.]]\n"
          ]
        },
        {
          "output_type": "error",
          "ename": "ValueError",
          "evalue": "operands could not be broadcast together with shapes (4,3) (4,) ",
          "traceback": [
            "\u001b[0;31m---------------------------------------------------------------------------\u001b[0m",
            "\u001b[0;31mValueError\u001b[0m                                Traceback (most recent call last)",
            "\u001b[0;32m<ipython-input-73-4317c19b1050>\u001b[0m in \u001b[0;36m<cell line: 3>\u001b[0;34m()\u001b[0m\n\u001b[1;32m      1\u001b[0m \u001b[0mprint\u001b[0m \u001b[0;34m(\u001b[0m\u001b[0mstart\u001b[0m\u001b[0;34m)\u001b[0m\u001b[0;34m\u001b[0m\u001b[0;34m\u001b[0m\u001b[0m\n\u001b[1;32m      2\u001b[0m \u001b[0mtmp\u001b[0m\u001b[0;34m=\u001b[0m\u001b[0mcol_rows\u001b[0m\u001b[0;34m.\u001b[0m\u001b[0mT\u001b[0m\u001b[0;34m\u001b[0m\u001b[0;34m\u001b[0m\u001b[0m\n\u001b[0;32m----> 3\u001b[0;31m \u001b[0my2\u001b[0m\u001b[0;34m=\u001b[0m\u001b[0mstart\u001b[0m\u001b[0;34m+\u001b[0m\u001b[0mtmp\u001b[0m\u001b[0;34m\u001b[0m\u001b[0;34m\u001b[0m\u001b[0m\n\u001b[0m\u001b[1;32m      4\u001b[0m \u001b[0mprint\u001b[0m\u001b[0;34m(\u001b[0m\u001b[0my2\u001b[0m\u001b[0;34m)\u001b[0m\u001b[0;34m\u001b[0m\u001b[0;34m\u001b[0m\u001b[0m\n",
            "\u001b[0;31mValueError\u001b[0m: operands could not be broadcast together with shapes (4,3) (4,) "
          ]
        }
      ]
    },
    {
      "cell_type": "markdown",
      "source": [
        "crear una matriz de 2*2  que el valor minimo sea 2 y el maximo 50"
      ],
      "metadata": {
        "id": "dJnuWfDV3FAQ"
      }
    },
    {
      "cell_type": "code",
      "source": [
        "y1=np.random.randint(low=2, high=50,size=(2,2))\n",
        "y2=np.random.randint(low=2, high=50,size=(2,2))\n",
        "print(y1)\n",
        "print(y2)"
      ],
      "metadata": {
        "colab": {
          "base_uri": "https://localhost:8080/"
        },
        "id": "PG4-h8vN1wkC",
        "outputId": "164206d6-2048-43d8-e10a-58237886e890"
      },
      "execution_count": 68,
      "outputs": [
        {
          "output_type": "stream",
          "name": "stdout",
          "text": [
            "[[49 13]\n",
            " [14 39]]\n",
            "[[18 26]\n",
            " [34  6]]\n"
          ]
        }
      ]
    },
    {
      "cell_type": "code",
      "source": [
        "np.vstack((y1,y2))"
      ],
      "metadata": {
        "colab": {
          "base_uri": "https://localhost:8080/"
        },
        "id": "6K3d06V029bY",
        "outputId": "e8ada88e-9239-47c5-dee7-53cf22f06e77"
      },
      "execution_count": 69,
      "outputs": [
        {
          "output_type": "execute_result",
          "data": {
            "text/plain": [
              "array([[49, 13],\n",
              "       [14, 39],\n",
              "       [18, 26],\n",
              "       [34,  6]])"
            ]
          },
          "metadata": {},
          "execution_count": 69
        }
      ]
    }
  ]
}